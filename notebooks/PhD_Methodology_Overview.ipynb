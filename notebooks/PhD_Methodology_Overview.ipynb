{
  "nbformat": 4,
  "nbformat_minor": 0,
  "metadata": {
    "colab": {
      "name": "PhD Methodology Overview.ipynb",
      "provenance": [],
      "toc_visible": true,
      "authorship_tag": "ABX9TyPf3JyJrKIWn39ZHNHBPuMy",
      "include_colab_link": true
    },
    "kernelspec": {
      "name": "python3",
      "display_name": "Python 3"
    }
  },
  "cells": [
    {
      "cell_type": "markdown",
      "metadata": {
        "id": "view-in-github",
        "colab_type": "text"
      },
      "source": [
        "<a href=\"https://colab.research.google.com/github/Aelvangunduz/phd_code/blob/master/notebooks/PhD_Methodology_Overview.ipynb\" target=\"_parent\"><img src=\"https://colab.research.google.com/assets/colab-badge.svg\" alt=\"Open In Colab\"/></a>"
      ]
    },
    {
      "cell_type": "markdown",
      "metadata": {
        "id": "7H36tKE1bkOS",
        "colab_type": "text"
      },
      "source": [
        "# Problem Definition"
      ]
    },
    {
      "cell_type": "markdown",
      "metadata": {
        "id": "JvyaQn4abo2Y",
        "colab_type": "text"
      },
      "source": [
        "Lorem Ipsum"
      ]
    },
    {
      "cell_type": "markdown",
      "metadata": {
        "id": "6trXUFndbq0k",
        "colab_type": "text"
      },
      "source": [
        "# Methodology Definition"
      ]
    },
    {
      "cell_type": "markdown",
      "metadata": {
        "id": "xkB3wKKQbtW5",
        "colab_type": "text"
      },
      "source": [
        "# Literature Review"
      ]
    }
  ]
}